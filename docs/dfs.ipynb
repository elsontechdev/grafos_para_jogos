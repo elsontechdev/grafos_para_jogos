{
 "cells": [
  {
   "cell_type": "markdown",
   "id": "2b74a20a",
   "metadata": {},
   "source": [
    "```py\n",
    "def dfs(grafo,cur,dst,path=None,visited=None):\n",
    "    \n",
    "    if visited is None:\n",
    "        visited=set()\n",
    "    if path is None:\n",
    "        path=[]\n",
    "\n",
    "    \n",
    "    visited.add(cur)\n",
    "    path.append(cur)\n",
    "    if cur==dst:return path.copy()\n",
    "    for neighbor in grafo.get(cur,[]):\n",
    "        if neighbor not in visited:\n",
    "            result=dfs(grafo,neighbor,dst,path=path,visited=visited)\n",
    "            if result is not None:\n",
    "                return result\n",
    "    path.pop()\n",
    "    return None\n",
    "```\n",
    "\n",
    "\n"
   ]
  }
 ],
 "metadata": {
  "language_info": {
   "name": "python"
  }
 },
 "nbformat": 4,
 "nbformat_minor": 5
}

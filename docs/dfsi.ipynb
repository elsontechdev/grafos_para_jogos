{
 "cells": [
  {
   "cell_type": "markdown",
   "id": "43786fc4",
   "metadata": {},
   "source": [
    "```py\n",
    "def dfs_iterativo(grafo, origem, destino):\n",
    "    stack = [(origem, [origem])]  # cada item é (tile_atual, caminho até aqui)\n",
    "    visitados = set()\n",
    "\n",
    "    while stack:\n",
    "        atual, caminho = stack.pop()\n",
    "\n",
    "        if atual == destino:\n",
    "            return caminho\n",
    "\n",
    "        if atual in visitados:\n",
    "            continue\n",
    "\n",
    "        visitados.add(atual)\n",
    "\n",
    "        for vizinho in grafo.get(atual, []):\n",
    "            if vizinho not in visitados:\n",
    "                stack.append((vizinho, caminho + [vizinho]))\n",
    "\n",
    "    return None  # se não encontrar caminho\n",
    "\n",
    "```"
   ]
  }
 ],
 "metadata": {
  "language_info": {
   "name": "python"
  }
 },
 "nbformat": 4,
 "nbformat_minor": 5
}
